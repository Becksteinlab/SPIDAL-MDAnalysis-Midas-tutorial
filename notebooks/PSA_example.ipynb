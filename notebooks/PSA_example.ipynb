{
 "cells": [
  {
   "cell_type": "markdown",
   "metadata": {},
   "source": [
    "# Tutorial: PSA with MDAnalysis and radical.pilot\n",
    "\n",
    "Analyze an ensemble of trajectories with *Path Similarity Analysis* [Seyler 2015] using [MDAnalysis](http://mdanalysis.org) and [radical.pilot](http://radicalpilot.readthedocs.io/)."
   ]
  },
  {
   "cell_type": "markdown",
   "metadata": {},
   "source": [
    "## Load packages "
   ]
  },
  {
   "cell_type": "code",
   "execution_count": 1,
   "metadata": {
    "collapsed": true
   },
   "outputs": [],
   "source": [
    "import MDAnalysis as mda\n",
    "from MDAnalysis.analysis import psa"
   ]
  },
  {
   "cell_type": "code",
   "execution_count": 2,
   "metadata": {
    "collapsed": false
   },
   "outputs": [
    {
     "data": {
      "text/plain": [
       "'0.16.0-dev0'"
      ]
     },
     "execution_count": 2,
     "metadata": {},
     "output_type": "execute_result"
    }
   ],
   "source": [
    "mda.__version__"
   ]
  },
  {
   "cell_type": "code",
   "execution_count": 3,
   "metadata": {
    "collapsed": true
   },
   "outputs": [],
   "source": [
    "import glob\n",
    "import os"
   ]
  },
  {
   "cell_type": "code",
   "execution_count": 9,
   "metadata": {
    "collapsed": true
   },
   "outputs": [],
   "source": [
    "import json"
   ]
  },
  {
   "cell_type": "markdown",
   "metadata": {},
   "source": [
    "## Trajectories \n",
    "The trajectories are an ensemble transitions of the enzyme adenylate kinase (AdK) between closed and open conformation. The trajectories were produced with either DIMS MD or FRODA.\n",
    "\n",
    "Sean's files:\n",
    "\n",
    "If you don't want fitted trajectories, look for directories named\n",
    "\"raw\", as they should contain trajectories that haven't been\n",
    "pre-aligned."
   ]
  },
  {
   "cell_type": "code",
   "execution_count": 4,
   "metadata": {
    "collapsed": true
   },
   "outputs": [],
   "source": [
    "DIRECTORIES = {\n",
    "    \"DIMS\":\n",
    "    \"/nfs/homes3/sseyler/Projects/Enzymes/AdK/simulations/enhanced/DIMS/trj/1ake/core\",\n",
    "    \"FRODA\":\n",
    "    \"/nfs/homes3/sseyler/Simulations/adk/gp/trj/co/fit/core\",\n",
    "}"
   ]
  },
  {
   "cell_type": "markdown",
   "metadata": {},
   "source": [
    "### DIMS\n",
    "There are AdK DIMS trajectories (both closed to open and open to\n",
    "closed) and corresponding topology are, respectively, in:\n",
    "\n",
    "-   /nfs/homes3/sseyler/Projects/Enzymes/AdK/simulations/enhanced/DIMS/trj\n",
    "-   /nfs/homes3/sseyler/Projects/Enzymes/AdK/simulations/enhanced/DIMS/top\n",
    "\n",
    "(The subdirectories \"core\" will have core-aligned trajectories.)\n"
   ]
  },
  {
   "cell_type": "code",
   "execution_count": 17,
   "metadata": {
    "collapsed": true
   },
   "outputs": [
    {
     "name": "stdout",
     "output_type": "stream",
     "text": [
      "dims0001_fit-core.dcd  dims0068_fit-core.dcd  dims0135_fit-core.dcd\r\n",
      "dims0002_fit-core.dcd  dims0069_fit-core.dcd  dims0136_fit-core.dcd\r\n",
      "dims0003_fit-core.dcd  dims0070_fit-core.dcd  dims0137_fit-core.dcd\r\n",
      "dims0004_fit-core.dcd  dims0071_fit-core.dcd  dims0138_fit-core.dcd\r\n",
      "dims0005_fit-core.dcd  dims0072_fit-core.dcd  dims0139_fit-core.dcd\r\n",
      "dims0006_fit-core.dcd  dims0073_fit-core.dcd  dims0140_fit-core.dcd\r\n",
      "dims0007_fit-core.dcd  dims0074_fit-core.dcd  dims0141_fit-core.dcd\r\n",
      "dims0008_fit-core.dcd  dims0075_fit-core.dcd  dims0142_fit-core.dcd\r\n",
      "dims0009_fit-core.dcd  dims0076_fit-core.dcd  dims0143_fit-core.dcd\r\n",
      "dims0010_fit-core.dcd  dims0077_fit-core.dcd  dims0144_fit-core.dcd\r\n",
      "dims0011_fit-core.dcd  dims0078_fit-core.dcd  dims0145_fit-core.dcd\r\n",
      "dims0012_fit-core.dcd  dims0079_fit-core.dcd  dims0146_fit-core.dcd\r\n",
      "dims0013_fit-core.dcd  dims0080_fit-core.dcd  dims0147_fit-core.dcd\r\n",
      "dims0014_fit-core.dcd  dims0081_fit-core.dcd  dims0148_fit-core.dcd\r\n",
      "dims0015_fit-core.dcd  dims0082_fit-core.dcd  dims0149_fit-core.dcd\r\n",
      "dims0016_fit-core.dcd  dims0083_fit-core.dcd  dims0150_fit-core.dcd\r\n",
      "dims0017_fit-core.dcd  dims0084_fit-core.dcd  dims0151_fit-core.dcd\r\n",
      "dims0018_fit-core.dcd  dims0085_fit-core.dcd  dims0152_fit-core.dcd\r\n",
      "dims0019_fit-core.dcd  dims0086_fit-core.dcd  dims0153_fit-core.dcd\r\n",
      "dims0020_fit-core.dcd  dims0087_fit-core.dcd  dims0154_fit-core.dcd\r\n",
      "dims0021_fit-core.dcd  dims0088_fit-core.dcd  dims0155_fit-core.dcd\r\n",
      "dims0022_fit-core.dcd  dims0089_fit-core.dcd  dims0156_fit-core.dcd\r\n",
      "dims0023_fit-core.dcd  dims0090_fit-core.dcd  dims0157_fit-core.dcd\r\n",
      "dims0024_fit-core.dcd  dims0091_fit-core.dcd  dims0158_fit-core.dcd\r\n",
      "dims0025_fit-core.dcd  dims0092_fit-core.dcd  dims0159_fit-core.dcd\r\n",
      "dims0026_fit-core.dcd  dims0093_fit-core.dcd  dims0160_fit-core.dcd\r\n",
      "dims0027_fit-core.dcd  dims0094_fit-core.dcd  dims0161_fit-core.dcd\r\n",
      "dims0028_fit-core.dcd  dims0095_fit-core.dcd  dims0162_fit-core.dcd\r\n",
      "dims0029_fit-core.dcd  dims0096_fit-core.dcd  dims0163_fit-core.dcd\r\n",
      "dims0030_fit-core.dcd  dims0097_fit-core.dcd  dims0164_fit-core.dcd\r\n",
      "dims0031_fit-core.dcd  dims0098_fit-core.dcd  dims0165_fit-core.dcd\r\n",
      "dims0032_fit-core.dcd  dims0099_fit-core.dcd  dims0166_fit-core.dcd\r\n",
      "dims0033_fit-core.dcd  dims0100_fit-core.dcd  dims0167_fit-core.dcd\r\n",
      "dims0034_fit-core.dcd  dims0101_fit-core.dcd  dims0168_fit-core.dcd\r\n",
      "dims0035_fit-core.dcd  dims0102_fit-core.dcd  dims0169_fit-core.dcd\r\n",
      "dims0036_fit-core.dcd  dims0103_fit-core.dcd  dims0170_fit-core.dcd\r\n",
      "dims0037_fit-core.dcd  dims0104_fit-core.dcd  dims0171_fit-core.dcd\r\n",
      "dims0038_fit-core.dcd  dims0105_fit-core.dcd  dims0172_fit-core.dcd\r\n",
      "dims0039_fit-core.dcd  dims0106_fit-core.dcd  dims0173_fit-core.dcd\r\n",
      "dims0040_fit-core.dcd  dims0107_fit-core.dcd  dims0174_fit-core.dcd\r\n",
      "dims0041_fit-core.dcd  dims0108_fit-core.dcd  dims0175_fit-core.dcd\r\n",
      "dims0042_fit-core.dcd  dims0109_fit-core.dcd  dims0176_fit-core.dcd\r\n",
      "dims0043_fit-core.dcd  dims0110_fit-core.dcd  dims0177_fit-core.dcd\r\n",
      "dims0044_fit-core.dcd  dims0111_fit-core.dcd  dims0178_fit-core.dcd\r\n",
      "dims0045_fit-core.dcd  dims0112_fit-core.dcd  dims0179_fit-core.dcd\r\n",
      "dims0046_fit-core.dcd  dims0113_fit-core.dcd  dims0180_fit-core.dcd\r\n",
      "dims0047_fit-core.dcd  dims0114_fit-core.dcd  dims0181_fit-core.dcd\r\n",
      "dims0048_fit-core.dcd  dims0115_fit-core.dcd  dims0182_fit-core.dcd\r\n",
      "dims0049_fit-core.dcd  dims0116_fit-core.dcd  dims0183_fit-core.dcd\r\n",
      "dims0050_fit-core.dcd  dims0117_fit-core.dcd  dims0184_fit-core.dcd\r\n",
      "dims0051_fit-core.dcd  dims0118_fit-core.dcd  dims0185_fit-core.dcd\r\n",
      "dims0052_fit-core.dcd  dims0119_fit-core.dcd  dims0186_fit-core.dcd\r\n",
      "dims0053_fit-core.dcd  dims0120_fit-core.dcd  dims0187_fit-core.dcd\r\n",
      "dims0054_fit-core.dcd  dims0121_fit-core.dcd  dims0188_fit-core.dcd\r\n",
      "dims0055_fit-core.dcd  dims0122_fit-core.dcd  dims0189_fit-core.dcd\r\n",
      "dims0056_fit-core.dcd  dims0123_fit-core.dcd  dims0190_fit-core.dcd\r\n",
      "dims0057_fit-core.dcd  dims0124_fit-core.dcd  dims0191_fit-core.dcd\r\n",
      "dims0058_fit-core.dcd  dims0125_fit-core.dcd  dims0192_fit-core.dcd\r\n",
      "dims0059_fit-core.dcd  dims0126_fit-core.dcd  dims0193_fit-core.dcd\r\n",
      "dims0060_fit-core.dcd  dims0127_fit-core.dcd  dims0194_fit-core.dcd\r\n",
      "dims0061_fit-core.dcd  dims0128_fit-core.dcd  dims0195_fit-core.dcd\r\n",
      "dims0062_fit-core.dcd  dims0129_fit-core.dcd  dims0196_fit-core.dcd\r\n",
      "dims0063_fit-core.dcd  dims0130_fit-core.dcd  dims0197_fit-core.dcd\r\n",
      "dims0064_fit-core.dcd  dims0131_fit-core.dcd  dims0198_fit-core.dcd\r\n",
      "dims0065_fit-core.dcd  dims0132_fit-core.dcd  dims0199_fit-core.dcd\r\n",
      "dims0066_fit-core.dcd  dims0133_fit-core.dcd  dims0200_fit-core.dcd\r\n",
      "dims0067_fit-core.dcd  dims0134_fit-core.dcd\r\n"
     ]
    }
   ],
   "source": [
    "%ls /nfs/homes3/sseyler/Projects/Enzymes/AdK/simulations/enhanced/DIMS/trj/1ake/core"
   ]
  },
  {
   "cell_type": "code",
   "execution_count": 7,
   "metadata": {
    "collapsed": false
   },
   "outputs": [
    {
     "name": "stdout",
     "output_type": "stream",
     "text": [
      "755M\t/nfs/homes3/sseyler/Projects/Enzymes/AdK/simulations/enhanced/DIMS/trj/1ake/core\r\n"
     ]
    }
   ],
   "source": [
    "!du -sh /nfs/homes3/sseyler/Projects/Enzymes/AdK/simulations/enhanced/DIMS/trj/1ake/core"
   ]
  },
  {
   "cell_type": "markdown",
   "metadata": {},
   "source": [
    "Diptheria toxin (DT)"
   ]
  },
  {
   "cell_type": "code",
   "execution_count": 16,
   "metadata": {
    "collapsed": false
   },
   "outputs": [
    {
     "name": "stdout",
     "output_type": "stream",
     "text": [
      "5.0G\t/nfs/homes3/sseyler/Simulations/dt/charmm/dims/implicit/trj/co/fit/1ddt\r\n"
     ]
    }
   ],
   "source": [
    "!du -sh /nfs/homes3/sseyler/Simulations/dt/charmm/dims/implicit/trj/co/fit/1ddt"
   ]
  },
  {
   "cell_type": "markdown",
   "metadata": {},
   "source": [
    "### FRODA\n",
    "\n",
    "For FRODA, you'll see the relevant top/trj files in:\n",
    "\n",
    "-   /nfs/homes3/sseyler/Simulations/adk/gp/top\n",
    "-   /nfs/homes3/sseyler/Simulations/adk/gp/trj/co/fit/core\n",
    "-   /nfs/homes3/sseyler/Simulations/adk/gp/trj/oc/fit/core"
   ]
  },
  {
   "cell_type": "code",
   "execution_count": 8,
   "metadata": {
    "collapsed": false
   },
   "outputs": [
    {
     "name": "stdout",
     "output_type": "stream",
     "text": [
      "539M\t/nfs/homes3/sseyler/Simulations/adk/gp/trj/co/fit/core\r\n"
     ]
    }
   ],
   "source": [
    "!du -sh /nfs/homes3/sseyler/Simulations/adk/gp/trj/co/fit/core"
   ]
  },
  {
   "cell_type": "markdown",
   "metadata": {},
   "source": [
    "### Load trajectories "
   ]
  },
  {
   "cell_type": "code",
   "execution_count": 5,
   "metadata": {
    "collapsed": false
   },
   "outputs": [],
   "source": [
    "trj_paths = dict((method, glob.glob(os.path.join(pth, \"*.dcd\"))) \n",
    "                 for method, pth in DIRECTORIES.items())\n",
    "top_paths = {'DIMS': \n",
    "             \"/nfs/homes3/sseyler/Projects/Enzymes/AdK/simulations/enhanced/DIMS/top/adk4ake.psf\",\n",
    "             'FRODA': \n",
    "             \"/nfs/homes3/sseyler/Simulations/adk/gp/top/1ake.pdb\"}"
   ]
  },
  {
   "cell_type": "raw",
   "metadata": {},
   "source": []
  },
  {
   "cell_type": "markdown",
   "metadata": {},
   "source": [
    "### Testing "
   ]
  },
  {
   "cell_type": "code",
   "execution_count": 26,
   "metadata": {
    "collapsed": false
   },
   "outputs": [],
   "source": [
    "dims0 = trj_paths['DIMS'][0]\n",
    "froda0 = trj_paths['FRODA'][0]"
   ]
  },
  {
   "cell_type": "code",
   "execution_count": 32,
   "metadata": {
    "collapsed": false
   },
   "outputs": [],
   "source": [
    "u1 = mda.Universe(top_paths['DIMS'], trj_paths['DIMS'][0])\n",
    "u2 = mda.Universe(top_paths['FRODA'], trj_paths['FRODA'][0])"
   ]
  },
  {
   "cell_type": "code",
   "execution_count": 37,
   "metadata": {
    "collapsed": false
   },
   "outputs": [],
   "source": [
    "ca1 = u1.select_atoms(\"name CA\")\n",
    "ca2 = u2.select_atoms(\"name CA\")"
   ]
  },
  {
   "cell_type": "code",
   "execution_count": 41,
   "metadata": {
    "collapsed": true
   },
   "outputs": [],
   "source": [
    "P = psa.PSAnalysis([u1, u2], ref_select=\"name CA\", targetdir=\"tmp_psa\", labels=[\"DIMS 0\", \"FRODA 0\"])"
   ]
  },
  {
   "cell_type": "code",
   "execution_count": 45,
   "metadata": {
    "collapsed": true
   },
   "outputs": [],
   "source": [
    "P.generate_paths(align=False)"
   ]
  },
  {
   "cell_type": "code",
   "execution_count": 49,
   "metadata": {
    "collapsed": false
   },
   "outputs": [
    {
     "name": "stdout",
     "output_type": "stream",
     "text": [
      "1 loop, best of 3: 480 ms per loop\n"
     ]
    }
   ],
   "source": [
    "%timeit P.run(metric=\"discrete_frechet\")"
   ]
  },
  {
   "cell_type": "code",
   "execution_count": 52,
   "metadata": {
    "collapsed": false
   },
   "outputs": [
    {
     "name": "stdout",
     "output_type": "stream",
     "text": [
      "1 loop, best of 3: 625 ms per loop\n"
     ]
    }
   ],
   "source": [
    "%%timeit \n",
    "P = psa.PSAnalysis([u1, u2], ref_select=\"name CA\", targetdir=\"tmp_psa\", labels=[\"DIMS 0\", \"FRODA 0\"])\n",
    "P.generate_paths(align=False)\n",
    "P.run(metric=\"discrete_frechet\")"
   ]
  },
  {
   "cell_type": "code",
   "execution_count": 65,
   "metadata": {
    "collapsed": false
   },
   "outputs": [],
   "source": [
    "import numpy as np"
   ]
  },
  {
   "cell_type": "code",
   "execution_count": 69,
   "metadata": {
    "collapsed": true
   },
   "outputs": [],
   "source": [
    "np.savez?"
   ]
  },
  {
   "cell_type": "markdown",
   "metadata": {},
   "source": [
    "### General approach\n",
    "\n",
    "1. MAP: split the $N \\times M$ matrix into individual pilot jobs that each calculate a sub-matrix $n_i \\times m_i$.\n",
    "2. REDUCE: combine the data into a full matrix"
   ]
  },
  {
   "cell_type": "code",
   "execution_count": 56,
   "metadata": {
    "collapsed": false
   },
   "outputs": [
    {
     "name": "stdout",
     "output_type": "stream",
     "text": [
      "(200, 200)\n"
     ]
    }
   ],
   "source": [
    "N, M = [len(trj_paths[method]) for method in sorted(trj_paths.keys())]\n",
    "print(N, M)"
   ]
  },
  {
   "cell_type": "markdown",
   "metadata": {},
   "source": [
    "#### Communicating files\n",
    "Use json to encode a list `[(topol, trj), (topol, trj), ...]`?\n",
    "Or just command line args?"
   ]
  },
  {
   "cell_type": "code",
   "execution_count": 6,
   "metadata": {
    "collapsed": false
   },
   "outputs": [],
   "source": [
    "def make_file_list(method, start=None, stop=None, step=None):\n",
    "    trj = trj_paths[method][start:stop:step]\n",
    "    top = len(trj) * [top_paths[method]]\n",
    "\n",
    "    return top, trj"
   ]
  },
  {
   "cell_type": "code",
   "execution_count": 16,
   "metadata": {
    "collapsed": false
   },
   "outputs": [],
   "source": [
    "files = make_file_list('DIMS', stop=20)\n",
    "f2 = make_file_list('FRODA', stop=20)\n",
    "files[0].extend(f2[0])\n",
    "files[1].extend(f2[1])\n",
    "del f2"
   ]
  },
  {
   "cell_type": "code",
   "execution_count": 15,
   "metadata": {
    "collapsed": true
   },
   "outputs": [
    {
     "name": "stdout",
     "output_type": "stream",
     "text": [
      "/nfs/homes3/sseyler/Projects/Enzymes/AdK/simulations/enhanced/DIMS/top/adk4ake.psf /nfs/homes3/sseyler/Projects/Enzymes/AdK/simulations/enhanced/DIMS/top/adk4ake.psf /nfs/homes3/sseyler/Projects/Enzymes/AdK/simulations/enhanced/DIMS/top/adk4ake.psf /nfs/homes3/sseyler/Projects/Enzymes/AdK/simulations/enhanced/DIMS/top/adk4ake.psf /nfs/homes3/sseyler/Simulations/adk/gp/top/1ake.pdb /nfs/homes3/sseyler/Simulations/adk/gp/top/1ake.pdb /nfs/homes3/sseyler/Simulations/adk/gp/top/1ake.pdb /nfs/homes3/sseyler/Simulations/adk/gp/top/1ake.pdb\n",
      "/nfs/homes3/sseyler/Projects/Enzymes/AdK/simulations/enhanced/DIMS/trj/1ake/core/dims0052_fit-core.dcd /nfs/homes3/sseyler/Projects/Enzymes/AdK/simulations/enhanced/DIMS/trj/1ake/core/dims0001_fit-core.dcd /nfs/homes3/sseyler/Projects/Enzymes/AdK/simulations/enhanced/DIMS/trj/1ake/core/dims0051_fit-core.dcd /nfs/homes3/sseyler/Projects/Enzymes/AdK/simulations/enhanced/DIMS/trj/1ake/core/dims0002_fit-core.dcd /nfs/homes3/sseyler/Simulations/adk/gp/trj/co/fit/core/pathway138_fit-core.dcd /nfs/homes3/sseyler/Simulations/adk/gp/trj/co/fit/core/pathway100_fit-core.dcd /nfs/homes3/sseyler/Simulations/adk/gp/trj/co/fit/core/pathway139_fit-core.dcd /nfs/homes3/sseyler/Simulations/adk/gp/trj/co/fit/core/pathway101_fit-core.dcd\n"
     ]
    }
   ],
   "source": [
    "print(\" \".join(files[0]))\n",
    "print(\" \".join(files[1]))"
   ]
  },
  {
   "cell_type": "code",
   "execution_count": 17,
   "metadata": {
    "collapsed": false
   },
   "outputs": [],
   "source": [
    "with open(\"files.json\", \"w\") as inp:\n",
    "    json.dump(files, inp)"
   ]
  },
  {
   "cell_type": "code",
   "execution_count": null,
   "metadata": {
    "collapsed": true
   },
   "outputs": [],
   "source": []
  }
 ],
 "metadata": {
  "kernelspec": {
   "display_name": "Python 2",
   "language": "python",
   "name": "python2"
  },
  "language_info": {
   "codemirror_mode": {
    "name": "ipython",
    "version": 2
   },
   "file_extension": ".py",
   "mimetype": "text/x-python",
   "name": "python",
   "nbconvert_exporter": "python",
   "pygments_lexer": "ipython2",
   "version": "2.7.13"
  },
  "widgets": {
   "state": {},
   "version": "1.1.2"
  }
 },
 "nbformat": 4,
 "nbformat_minor": 2
}
